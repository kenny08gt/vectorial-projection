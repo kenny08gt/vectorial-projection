{
 "cells": [
  {
   "cell_type": "markdown",
   "metadata": {},
   "source": [
    "# Alan Kenny Hurtarte Siguenza\n",
    "# 19000590 \n",
    "\n",
    "---"
   ]
  },
  {
   "cell_type": "markdown",
   "metadata": {},
   "source": [
    "# Que es proyección vectorial?  \n",
    "La proyección de un punto $A$ sobre una recta $r$ es el punto $B$, donde la recta perpendicular a $r$ que pasa por $A$ corta la recta $r$.\n",
    "![alt text](./producto_escalar_01.png \"Proyección\")\n",
    "\n",
    "La proyección de un segmento $\\overline{AB}$ sobre una recta $r$ es otro segmento $\\overline{CD}$ contenido en la recta $r$, cuyos extremos son las proyecciones de los puntos $A$ y $B$ sobre la recta $r$. La sombra de $\\overline{AB}$ sobre $r$ es la proyección, y puede ser escalar o verctorial.\n",
    "![alt text](./producto_escalar_02.png \"Proyección\")\n",
    "\n",
    "Un vector tiene dirección. La proyección de un vector u sobre una recta se hace exactamente igual que la proyección de un segmento sobre una recta.\n",
    "\n",
    "Es definida por la siguiente formula, se le, la proyección de $\\overrightarrow{v}$ sobre $\\overrightarrow{u}$\n",
    "\n",
    "$$ proy_{\\overrightarrow{u}}(\\overrightarrow{v}) = \\frac{\\overrightarrow{u} \\cdot \\overrightarrow{v}}{\\overrightarrow{u} \\cdot \\overrightarrow{u}} \\overrightarrow{u} $$\n",
    "\n"
   ]
  },
  {
   "cell_type": "markdown",
   "metadata": {},
   "source": [
    "\n",
    "# Definir una ufunc para calcular proyección vectorial sobre vectores de Numpy"
   ]
  },
  {
   "cell_type": "code",
   "execution_count": 29,
   "metadata": {},
   "outputs": [
    {
     "name": "stdout",
     "output_type": "stream",
     "text": [
      "[2.4 0.8]\n"
     ]
    }
   ],
   "source": [
    "import numpy as np\n",
    "def proyV(vector1, vector2):\n",
    "    if type(vector1) != np.ndarray or type(vector2) != np.ndarray:\n",
    "        return 'The vector1 or\\and vector2 are not the correct numpy array type.'\n",
    "    \n",
    "    if vector1.ndim != vector2.ndim:\n",
    "        return 'The vector1 and vector2 have different dimensions.'\n",
    "    \n",
    "    if vector1.shape[0] != vector2.shape[0]:\n",
    "        return 'The vector1 and vector2 have different length.'\n",
    "        \n",
    "    return np.dot(np.dot(vector1, vector2) / np.dot(vector1, vector1), vector1)\n",
    "\n",
    "vector1 = np.array([3, 1])\n",
    "vector2 = np.array([1, 5])\n",
    "\n",
    "print(proyV(vector1, vector2))"
   ]
  },
  {
   "cell_type": "markdown",
   "metadata": {},
   "source": [
    "# Como interpretamos la proyección vectorial?\n",
    "\n",
    " La proyección vectorial nos ayuda a responder directamente. ¿Que tanto ser dirige un vector en la dirección de otro vector?\n",
    "  \n",
    "# Utilizando la función del punto anterior calcularla para vectores de ejemplo e interpretar o concluir sobre el resultado.\n"
   ]
  },
  {
   "cell_type": "code",
   "execution_count": 30,
   "metadata": {},
   "outputs": [
    {
     "name": "stdout",
     "output_type": "stream",
     "text": [
      "[2.4 0.8]\n"
     ]
    }
   ],
   "source": [
    "vector1 = np.array([3, 1])\n",
    "vector2 = np.array([1, 5])\n",
    "\n",
    "print(proyV(vector1, vector2))"
   ]
  },
  {
   "cell_type": "markdown",
   "metadata": {},
   "source": [
    "# Investigar o proponer una aplicación o caso de uso de proyección vectorial en ciencia de datos u otras ciencia de tu interés donde se pueda aplicar programación numérica. Como ejemplo o tip para esta parte: un algoritmo muy importante de ML se basa en esto y su nombre puede servir como pista para saber cual es."
   ]
  },
  {
   "cell_type": "code",
   "execution_count": null,
   "metadata": {},
   "outputs": [],
   "source": []
  },
  {
   "cell_type": "markdown",
   "metadata": {},
   "source": [
    "# Referencias\n",
    "* https://lasmatematicas.eu/2017/09/22/proyecciones-producto-escalar-de-vectores-aplicaciones/\n",
    "* https://www.youtube.com/watch?v=d4_6-kF1HdY\n"
   ]
  }
 ],
 "metadata": {
  "kernelspec": {
   "display_name": "Python 3",
   "language": "python",
   "name": "python3"
  },
  "language_info": {
   "codemirror_mode": {
    "name": "ipython",
    "version": 3
   },
   "file_extension": ".py",
   "mimetype": "text/x-python",
   "name": "python",
   "nbconvert_exporter": "python",
   "pygments_lexer": "ipython3",
   "version": "3.7.1"
  }
 },
 "nbformat": 4,
 "nbformat_minor": 2
}
